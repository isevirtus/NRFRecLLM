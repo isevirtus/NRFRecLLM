| Arquivo / Pasta | Conteúdo                                                                                                                     |
| --------------- | ---------------------------------------------------------------------------------------------------------------------------- |
| data/         | O dataset com as user stories, tarefas e anotações originais (já mencionado).                                                |
| results/      | Arquivos CSV ou JSON com os resultados do LLM: classificação original, validação (se feita), comparação com o gold standard. |
| analysis/     | Scripts ou notebooks com estatísticas, métricas, e classificação dos erros (por tipo).                                       |
| examples/     | Exemplos usados no artigo, talvez organizados por tipo (acerto, erro, ambíguo).                                              |
| prompts/      | Os dois prompts usados (já planejado).                                                                                       |
| README.md     | Explicando a estrutura, objetivos e instruções para explorar os dados.                                                       |

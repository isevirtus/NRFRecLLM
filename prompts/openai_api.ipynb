{
 "cells": [
  {
   "cell_type": "code",
   "execution_count": 10,
   "id": "a4982f49-fa49-446e-b1f2-5e74d44df660",
   "metadata": {},
   "outputs": [],
   "source": [
    "import pandas as pd\n",
    "import csv\n",
    "import json\n",
    "import os\n",
    "from dotenv import load_dotenv\n",
    "from collections import defaultdict\n",
    "from openai import OpenAI"
   ]
  },
  {
   "cell_type": "code",
   "execution_count": 11,
   "id": "d6060453-8ded-4d35-8e3b-ab5a8c35dfde",
   "metadata": {},
   "outputs": [],
   "source": [
    "caminho_csv = \"Data\\\\dados_processados_projetos_final.csv\"\n",
    "df = pd.read_csv(caminho_csv)"
   ]
  },
  {
   "cell_type": "code",
   "execution_count": 12,
   "id": "07a13f3c-114d-4873-a83e-99127b91a352",
   "metadata": {},
   "outputs": [],
   "source": [
    "load_dotenv(override=True)\n",
    "\n",
    "api_key = os.getenv('OPENAI_API_KEY')"
   ]
  },
  {
   "cell_type": "code",
   "execution_count": 13,
   "id": "4d4b81c9-3084-405d-8c8f-3f1a7a47e987",
   "metadata": {},
   "outputs": [],
   "source": [
    "openai = OpenAI()"
   ]
  },
  {
   "cell_type": "code",
   "execution_count": 14,
   "id": "82430004-3567-48cc-ad65-590a7da42e52",
   "metadata": {},
   "outputs": [],
   "source": [
    "'''\n",
    "    --> Prompt\n",
    "'''\n",
    "\n",
    "def gerar_prompt(dado_dict, quantidade):\n",
    "\n",
    "    dados_gerais_dict = {\n",
    "    \"Functional requirement (US Description)\": dado_dict['US'][0][\"Descritivo_da_US\"],\n",
    "    \"Domain\": dado_dict['US'][0][\"Dominio\"],\n",
    "    \"Platform\": dado_dict['US'][0][\"Plataforma\"],\n",
    "    \"Architecture\": dado_dict['US'][0][\"Arquitetura\"]\n",
    "    }\n",
    "    tarefas = [{\n",
    "        \"Tarefa_ID\": dado_dict['US'][i]['Tarefa_ID'],\n",
    "        \"Modulo\": dado_dict['US'][i]['Modulo'],\n",
    "        \"Operacao\": dado_dict['US'][i]['Operacao'],\n",
    "        \"Tarefa_mapeada\": dado_dict['US'][i]['Tarefa_mapeada'],\n",
    "        \"Tarefa_original\": dado_dict['US'][i]['Tarefa_original'],\n",
    "        \"Tags\": dado_dict['US'][i]['Tags'],\n",
    "        \"Camada\": dado_dict['US'][i]['Camada'],\n",
    "        \"Linguagem\": dado_dict['US'][i]['Linguagem'],\n",
    "        \"Framework\": dado_dict['US'][i]['Framework'],\n",
    "        \"Outras_Tags\": dado_dict['US'][i]['Outras_Tags'],\n",
    "    }for i in range(quantidade)]\n",
    "    \n",
    "    base_prompt = f\"\"\"\n",
    "Given the structured project data dictionary called `dado`, analyze and recommend one or more non-functional requirements (NFRs) that fit the scenario. Only recommend NFRs belonging to the following types and attributes:\n",
    "\n",
    "- Performance: response_time, capacity, transit_delay, efficiency_compliance  \n",
    "- Reliability: availability, integrity, fault_tolerance, recoverability  \n",
    "- Security: confidentiality, access_control, authentication  \n",
    "\n",
    "Follow this step-by-step reasoning:\n",
    "\n",
    "1. Read the project data from the `dado` dictionary:\n",
    "   - US General Data: {dados_gerais_dict}\n",
    "   - Associated tasks: {tarefas}\n",
    "\n",
    "2. Understand the functional requirement (US Description) and its sensitivity or business implications.\n",
    "\n",
    "3. Analyze each field of the `dado` dictionary to understand its impact on NFR selection:\n",
    "\n",
    "   - `Functional requirement (US Description)`: Provides the core user story — for example, creating user permissions — which may highlight the need for security-related NFRs such as access control and authentication.\n",
    "   - `Domain`: Specifies the context in which the system operates — e.g., \"Office/Business\" — which can influence the importance of confidentiality and system responsiveness.\n",
    "   - `Platform`: Indicates the deployment environment — such as \"Web\" — which suggests a need for high availability and acceptable response times under concurrent access.\n",
    "   - `Architecture`: Describes the system structure — e.g., \"Client-server\" — which informs the selection of NFRs like fault tolerance, recoverability, and efficiency across distributed components.\n",
    "   - `Associated_tasks`: A list of technical implementation tasks that provide insight into:\n",
    "     - The layers involved (e.g., Front-end in Angular/TypeScript, Back-end in Java/Spring Boot),\n",
    "     - The operations performed (e.g., validating user permissions, creating listing services),\n",
    "     - The technical stack, which influences how NFRs like performance or security should be enforced.\n",
    "     This field is key to understanding where to apply specific NFRs (e.g., enforce access control in front-end validation, ensure back-end service availability).\n",
    "\n",
    "4. Based on the full context, select the most appropriate NFR type(s) and attribute(s) from the allowed list.\n",
    "\n",
    "5. For each, draft one clear and relevant NFR sentence aligned with the chosen attribute.  \n",
    "   - Format: \"The system must ensure the [ATTRIBUTE] by [MEASURE OR CONDITION].\"\n",
    "\n",
    "6. Format the final output as a JSON array using the structure below. Generate **one item per NFR recommendation:\n",
    "\n",
    "[\n",
    "  {{\n",
    "    \"NFR_Tipo\": \"[Performance|Reliability|Security]\",\n",
    "    \"NFR_Atributo\": \"[attribute from allowed list]\",\n",
    "    \"NFR_Sentença\": \"The system must ensure the [ATTRIBUTE] by [MEASURE OR CONDITION].\"\n",
    "  }},\n",
    "  ...\n",
    "]\n",
    "\n",
    "Important:\n",
    "\n",
    "- You may recommend more than one NFR if justified by the input.\n",
    "- Return only a valid JSON array — no explanations, no comments, no extra text.\n",
    "- The recommendation must contain more non-functional requirements than the number of tasks present in the Sprint and US.\n",
    "\"\"\"\n",
    "    return base_prompt"
   ]
  },
  {
   "cell_type": "code",
   "execution_count": 15,
   "id": "8ce05a12-3385-4f57-a13e-dd08b1d4cdb1",
   "metadata": {},
   "outputs": [],
   "source": [
    "def openai_api(prompt):\n",
    "\n",
    "    response = openai.chat.completions.create(\n",
    "            model=\"gpt-4.1-mini\",\n",
    "            messages=[\n",
    "                {\"role\": \"system\", \"content\": \"You are a requirements engineer. Use chain-of-thought reasoning to analyze the user's input.\"},\n",
    "                {\"role\": \"user\", \"content\": prompt}\n",
    "            ]\n",
    "        )\n",
    "    resposta_str = response.choices[0].message.content.strip()\n",
    "    return resposta_str"
   ]
  },
  {
   "cell_type": "code",
   "execution_count": 16,
   "id": "a45f5585-1def-4cdf-931e-8d8cc7d2ecc4",
   "metadata": {},
   "outputs": [
    {
     "name": "stdout",
     "output_type": "stream",
     "text": [
      "246\n"
     ]
    },
    {
     "data": {
      "text/plain": [
       "'\\nfor (projeto, sprint, us), tarefas in grupos.items():\\n    print()\\n    print(f\"O projeto é {projeto}, pertence a sprint {sprint} e é da US é {us}\")\\n    print(\"----------------------------------\")\\n    print(tarefas)\\n    print(\"\\n----------------------------------\\n\")\\n'"
      ]
     },
     "execution_count": 16,
     "metadata": {},
     "output_type": "execute_result"
    }
   ],
   "source": [
    "'''\n",
    "Agrupando os dados por user stories\n",
    "'''\n",
    "\n",
    "caminho_csv = \"Data\\\\DadosProjetos.csv\"\n",
    "grupos = defaultdict(list)\n",
    "\n",
    "with open(caminho_csv, newline='', encoding='utf-8') as csvfile:\n",
    "    leitor = csv.DictReader(csvfile)\n",
    "    for linha in leitor:\n",
    "        chave = (linha[\"Projeto\"], linha[\"Sprint_ID\"], linha[\"US_ID\"])\n",
    "        grupos[chave].append(linha)\n",
    "print(len(grupos.items()))"
   ]
  },
  {
   "cell_type": "code",
   "execution_count": 17,
   "id": "d2dd076c-96e3-49ff-b1ef-aee24ffba4c7",
   "metadata": {},
   "outputs": [],
   "source": [
    "resultados = []\n",
    "\n",
    "def gerar_recomendacoes_funcao_2():\n",
    "    try:\n",
    "        caminho_saida = \"result/response.json\"\n",
    "        \n",
    "        for (projeto, sprint, us), tarefas in grupos.items():\n",
    "            payload = {\n",
    "                \"Projeto\": projeto,\n",
    "                \"Sprint_ID\": sprint,\n",
    "                \"US_ID\": us,\n",
    "                \"US\": tarefas\n",
    "            }\n",
    "    \n",
    "            quantidade = len(payload['US'])\n",
    "            prompt = gerar_prompt(payload, quantidade)\n",
    "    \n",
    "            resposta = openai_api(prompt)\n",
    "            \n",
    "            try:\n",
    "                resposta_json = json.loads(resposta)\n",
    "            except json.JSONDecodeError as e:\n",
    "                print(f\"Erro ao decodificar a resposta como JSON: {e}\")\n",
    "                resposta_json = [{\"erro\": \"Resposta inválida\", \"resposta_bruta\": resposta}]\n",
    "\n",
    "            resultados.append({\n",
    "                \"Projeto\": projeto,\n",
    "                \"Sprint_ID\": sprint,\n",
    "                \"US_ID\": us,\n",
    "                \"Resposta\": resposta\n",
    "            })\n",
    "            \n",
    "            with open(caminho_saida, \"w\", encoding=\"utf-8\") as f:\n",
    "                json.dump(resultados, f, indent=2, ensure_ascii=False)\n",
    "    \n",
    "    except Exception as e:\n",
    "        print(f\"Erro ocorrido: {e}\")\n",
    "        print(\"Salvando resultados parciais...\")\n",
    "    \n",
    "    finally:\n",
    "        print(f\"Resultados salvos com {len(resultados)} entradas.\")"
   ]
  },
  {
   "cell_type": "code",
   "execution_count": null,
   "id": "0179caf7-5afa-4572-a0d1-6ea2e7178325",
   "metadata": {},
   "outputs": [],
   "source": [
    "gerar_recomendacoes_funcao_2()"
   ]
  }
 ],
 "metadata": {
  "kernelspec": {
   "display_name": "Python 3 (ipykernel)",
   "language": "python",
   "name": "python3"
  },
  "language_info": {
   "codemirror_mode": {
    "name": "ipython",
    "version": 3
   },
   "file_extension": ".py",
   "mimetype": "text/x-python",
   "name": "python",
   "nbconvert_exporter": "python",
   "pygments_lexer": "ipython3",
   "version": "3.12.7"
  }
 },
 "nbformat": 4,
 "nbformat_minor": 5
}
